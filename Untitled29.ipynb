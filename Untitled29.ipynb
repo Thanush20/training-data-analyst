{
  "nbformat": 4,
  "nbformat_minor": 0,
  "metadata": {
    "colab": {
      "name": "Untitled29.ipynb",
      "provenance": [],
      "authorship_tag": "ABX9TyM1OocJniM6jOISfutUCGDh",
      "include_colab_link": true
    },
    "kernelspec": {
      "name": "python3",
      "display_name": "Python 3"
    },
    "language_info": {
      "name": "python"
    }
  },
  "cells": [
    {
      "cell_type": "markdown",
      "metadata": {
        "id": "view-in-github",
        "colab_type": "text"
      },
      "source": [
        "<a href=\"https://colab.research.google.com/github/Thanush20/training-data-analyst/blob/master/Untitled29.ipynb\" target=\"_parent\"><img src=\"https://colab.research.google.com/assets/colab-badge.svg\" alt=\"Open In Colab\"/></a>"
      ]
    },
    {
      "cell_type": "code",
      "metadata": {
        "colab": {
          "base_uri": "https://localhost:8080/",
          "height": 129
        },
        "id": "8P8JdyyZEhrW",
        "outputId": "fb02d2ee-1368-403f-e480-f58ccdca60d4"
      },
      "source": [
        "import tensorflow as tf\n",
        "from tensorflow import keras \n",
        "from tensorflow.keras.preprocessing import image\n",
        "from tensorflow.keras.preprocessing.image import ImageDataGenerator\n",
        "tf.__version__\n",
        "train_datagen= ImageDataGenerator( rescale=1./255,\n",
        "                                  shear_range=0.2,\n",
        "                                  zoom_range=0.2,\n",
        "                                  horizontal_flip=True )\n",
        "training_set=train_datagen.flow_from_directory(\"..\\\\Users\\\\BLRCSEL511PC14\\\\skin cancer\\\\data\\\\test\",\n",
        "                                                 target_size = (64, 64),\n",
        "                                                 batch_size = 10,\n",
        "                                                 class_mode = 'binary')\n",
        "test_datagen = ImageDataGenerator(rescale = 1./255)\n",
        "test_set = test_datagen.flow_from_directory(\"..\\\\Users\\\\BLRCSEL511PC14\\\\skin cancer\\\\data\\\\train\",\n",
        "                                            target_size = (64, 64),\n",
        "                                            batch_size = 10,\n",
        "                                            class_mode = 'binary')\n",
        "cnn=tf.keras.models.Sequential()\n",
        "cnn.add(tf.keras.layers.Conv2D(filters=32,kernel_size=3, activation='relu',input_shape=[64,64,3]))\n",
        "cnn.add(tf.keras.layers.MaxPool2D(pool_size=2,strides=2))\n",
        "cnn.add(tf.keras.layers.Conv2D(filters=32,kernel_size=3,activation='relu'))\n",
        "cnn.add(tf.keras.layers.MaxPool2D(pool_size=2,strides=2))\n",
        "cnn.add(tf.keras.layers.Flatten())\n",
        "cnn.add(tf.keras.layers.Dense(units=128,activation='relu'))\n",
        "cnn.add(tf.keras.layers.Dense(units=1,activation='sigmoid'))\n",
        "cnn.compile(optimizer='adam',loss='binary_crossentropy',metrics=['accuracy'])\n",
        "cnn.fit(x=training_set,validation_data=test_set,epochs=50)\n",
        "print(training_set.class_indices)\n",
        "import numpy as np\n",
        "\n",
        "test_image= image.load_img(\"..\\\\Users\\\\BLRCSEL511PC14\\\\skin cancer\\\\data-malignant-vs-benign//test//benign//335.jpg',target_size=(64,64))\n",
        "test_image=image.img_to_array(test_image)\n",
        "test_image=np.expand_dims(test_image,axis=0)\n",
        "result=cnn.predict(test_image)\n",
        "training_set.class_indices\n",
        "if result[0][0]==1:\n",
        "  print('malignant')\n",
        "else:\n",
        "  print('benign')\n"
      ],
      "execution_count": null,
      "outputs": [
        {
          "output_type": "error",
          "ename": "SyntaxError",
          "evalue": "ignored",
          "traceback": [
            "\u001b[0;36m  File \u001b[0;32m\"<ipython-input-1-6d2d171abfe5>\"\u001b[0;36m, line \u001b[0;32m32\u001b[0m\n\u001b[0;31m    test_image= image.load_img(\"..\\\\Users\\\\BLRCSEL511PC14\\\\skin cancer\\\\data-malignant-vs-benign//test//benign//335.jpg',target_size=(64,64))\u001b[0m\n\u001b[0m                                                                                                                                             ^\u001b[0m\n\u001b[0;31mSyntaxError\u001b[0m\u001b[0;31m:\u001b[0m EOL while scanning string literal\n"
          ]
        }
      ]
    }
  ]
}